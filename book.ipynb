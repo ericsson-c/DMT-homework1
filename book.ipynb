{
 "cells": [
  {
   "cell_type": "markdown",
   "metadata": {},
   "source": [
    "Book 1: Twenty Thousand Leagues Under the Sea\n",
    "* Author: Jules Verne\n",
    "* URL: https://www.gutenberg.org/ebooks/164\n",
    "* Category: Sci-Fi & Fantasy\n",
    "* Ownership: Public Domain (USA)\n",
    "\n",
    "Book 2: A Journey to the Centre of the Earth\n",
    "* Author: Jules Verne\n",
    "* URL: https://www.gutenberg.org/ebooks/18857\n",
    "* Category: Sci-Fi & Fantasy\n",
    "* Ownership: Public Domain (USA)\n",
    "\n",
    "(I'm a fan of classic sci-fi)\n",
    "\n",
    "Question to answer: I read somewhere that it's possible for an ML algorithm to classify literature works by author based on the number of letters they use per word. With that said, what is the length of the average word penned by Jules Verne?"
   ]
  },
  {
   "cell_type": "code",
   "execution_count": 8,
   "metadata": {},
   "outputs": [],
   "source": [
    "# book 1: 20,000 leagues Under the Sea\n",
    "path = 'data/leagues.txt' # should be in the same directory\n",
    "leagues = [line.strip() for line in open(path, 'r').readlines()]\n",
    "\n",
    "# book 2: Journey to the Center of the Earth\n",
    "path = 'data/journey.txt'\n",
    "journey = [line.strip() for line in open(path, 'r').readlines()]"
   ]
  },
  {
   "cell_type": "markdown",
   "metadata": {},
   "source": [
    "Before we tackle our main question, let's do some exploratory analysis on our books."
   ]
  },
  {
   "cell_type": "code",
   "execution_count": 9,
   "metadata": {},
   "outputs": [
    {
     "name": "stdout",
     "output_type": "stream",
     "text": [
      " leagues has 12539 lines, journey has 11320.\n"
     ]
    }
   ],
   "source": [
    "# what is the number of lines?\n",
    "num_lines_leagues = len(leagues) # 12539\n",
    "num_lines_journey = len(journey) # 11320\n",
    "\n",
    "print(f\" leagues has {num_lines_leagues} lines, journey has {num_lines_journey}.\")"
   ]
  },
  {
   "cell_type": "markdown",
   "metadata": {},
   "source": [
    "We cant start by filtering out the empty lines. We don't want a word length of 0 polluting our final calculation."
   ]
  },
  {
   "cell_type": "code",
   "execution_count": 10,
   "metadata": {},
   "outputs": [],
   "source": [
    "def filter_emptylines(book):\n",
    "    return [line for line in book if line != '']\n",
    "\n",
    "leagues = filter_emptylines(leagues)\n",
    "journey = filter_emptylines(journey)"
   ]
  },
  {
   "cell_type": "markdown",
   "metadata": {},
   "source": [
    "Just to verify that our filter worked, let's print out the first 20 lines of each book. Before, there were definitely some empty lines in there."
   ]
  },
  {
   "cell_type": "code",
   "execution_count": 11,
   "metadata": {},
   "outputs": [
    {
     "name": "stdout",
     "output_type": "stream",
     "text": [
      "[\"\\ufeffProject Gutenberg's Twenty Thousand Leagues under the Sea\", '(slightly abridged), by Jules Verne', 'This eBook is for the use of anyone anywhere at no cost and with', 'almost no restrictions whatsoever.  You may copy it, give it away or', 're-use it under the terms of the Project Gutenberg License included', 'with this eBook or online at www.gutenberg.org', 'Title: Twenty Thousand Leagues under the Sea (slightly abridged)', 'Author: Jules Verne', 'Release Date: Sep 1, 1994 [EBook #164]', 'Last Updated: December 13, 2016', 'Language: English', '*** START OF THIS PROJECT GUTENBERG EBOOK 20000 LEAGUES UNDER THE SEA ***', 'This etext was done by a number of anonymous volunteers of the', 'Gutenberg Project, to whom we owe a great deal of thanks and to', 'whom we dedicate this book.', 'TWENTY THOUSAND LEAGUES UNDER THE SEA', 'by', 'JULES VERNE', 'PART ONE', 'CHAPTER I']\n",
      "\n",
      "\n",
      "[\"\\ufeffProject Gutenberg's A Journey to the Centre of the Earth, by Jules Verne\", 'This eBook is for the use of anyone anywhere at no cost and with', 'almost no restrictions whatsoever.  You may copy it, give it away or', 're-use it under the terms of the Project Gutenberg License included', 'with this eBook or online at www.gutenberg.org', 'Title: A Journey to the Centre of the Earth', 'Author: Jules Verne', 'Release Date: July 18, 2006 [EBook #18857]', 'Last updated: December 27, 2012', 'Language: English', '*** START OF THIS PROJECT GUTENBERG EBOOK CENTRE OF THE EARTH ***', 'Produced by Norm Wolcott', 'A JOURNEY TO THE CENTRE OF THE EARTH', 'By Jules Verne', \"[Redactor's Note: Journey to the Centre of the Earth is number\", 'V002 in the Taves and Michaluk numbering of the works of Jules', 'Verne. First published in England by Griffith and Farran, 1871,', 'this edition is not a translation at all but a complete re-write', 'of the novel, with portions added and omitted, and names changed.', 'The most reprinted version, it is entered into Project Gutenberg']\n"
     ]
    }
   ],
   "source": [
    "print(leagues[:20])\n",
    "print(\"\\n\")\n",
    "print(journey[:20])"
   ]
  },
  {
   "cell_type": "markdown",
   "metadata": {},
   "source": [
    "Looks goods! Now we should create a function that counts the length of each word in each line. However, we have to somehow make sure to exlclude spaces when counting word lengths. Thus, it's inadequate to simply find the length of each line."
   ]
  },
  {
   "cell_type": "code",
   "execution_count": 12,
   "metadata": {},
   "outputs": [
    {
     "name": "stdout",
     "output_type": "stream",
     "text": [
      " Leagues: 4.98, Journey: 5.14\n"
     ]
    }
   ],
   "source": [
    "# Naive implementation:\n",
    "def avg_word_length(book):\n",
    "    \n",
    "    num_words = 0\n",
    "    total_word_length = 0;\n",
    "    \n",
    "    # count a word every time we hit a space character\n",
    "    for line in book:\n",
    "        \n",
    "        line_as_str = ''\n",
    "        for ch in line:\n",
    "            if ch == ' ':\n",
    "                num_words += 1\n",
    "            else:\n",
    "                line_as_str += ch\n",
    "                \n",
    "        total_word_length += len(line_as_str)\n",
    "        \n",
    "    return round(total_word_length / num_words, 2)\n",
    "\n",
    "print(f\" Leagues: {avg_word_length(leagues)}, Journey: {avg_word_length(journey)}\")"
   ]
  },
  {
   "cell_type": "markdown",
   "metadata": {},
   "source": [
    "Both the implementation and the results seem reasonable, but there's probably some things we overlooked. Lets go back into the function defintion and print some of the line_as_str strings we created:"
   ]
  },
  {
   "cell_type": "code",
   "execution_count": 13,
   "metadata": {},
   "outputs": [],
   "source": [
    "# Let's see if there's any bugs...\n",
    "def modified_avg_word_length(book):\n",
    "    num_words = 0\n",
    "    total_word_length = 0;\n",
    "    # count a word every time we hit a space character\n",
    "    i = 0;\n",
    "    for line in book:\n",
    "        line_as_str = ''\n",
    "        for ch in line:\n",
    "            if ch == ' ':\n",
    "                num_words += 1\n",
    "            else:\n",
    "                line_as_str += ch\n",
    "        \n",
    "        # let's only print the first 50 lines\n",
    "        if i < 50:\n",
    "            print(line_as_str)\n",
    "            i += 1\n",
    "        else:\n",
    "            total_word_length += len(line_as_str)\n",
    "            \n",
    "    return round(total_word_length / num_words, 2)"
   ]
  },
  {
   "cell_type": "code",
   "execution_count": 14,
   "metadata": {},
   "outputs": [
    {
     "name": "stdout",
     "output_type": "stream",
     "text": [
      "﻿ProjectGutenberg'sTwentyThousandLeaguesundertheSea\n",
      "(slightlyabridged),byJulesVerne\n",
      "ThiseBookisfortheuseofanyoneanywhereatnocostandwith\n",
      "almostnorestrictionswhatsoever.Youmaycopyit,giveitawayor\n",
      "re-useitunderthetermsoftheProjectGutenbergLicenseincluded\n",
      "withthiseBookoronlineatwww.gutenberg.org\n",
      "Title:TwentyThousandLeaguesundertheSea(slightlyabridged)\n",
      "Author:JulesVerne\n",
      "ReleaseDate:Sep1,1994[EBook#164]\n",
      "LastUpdated:December13,2016\n",
      "Language:English\n",
      "***STARTOFTHISPROJECTGUTENBERGEBOOK20000LEAGUESUNDERTHESEA***\n",
      "Thisetextwasdonebyanumberofanonymousvolunteersofthe\n",
      "GutenbergProject,towhomweoweagreatdealofthanksandto\n",
      "whomwededicatethisbook.\n",
      "TWENTYTHOUSANDLEAGUESUNDERTHESEA\n",
      "by\n",
      "JULESVERNE\n",
      "PARTONE\n",
      "CHAPTERI\n",
      "ASHIFTINGREEF\n",
      "Theyear1866wassignalisedbyaremarkableincident,amysteriousand\n",
      "puzzlingphenomenon,whichdoubtlessnoonehasyetforgotten.Notto\n",
      "mentionrumourswhichagitatedthemaritimepopulationandexcitedthe\n",
      "publicmind,evenintheinteriorofcontinents,seafaringmenwere\n",
      "particularlyexcited.Merchants,commonsailors,captainsofvessels,\n",
      "skippers,bothofEuropeandAmerica,navalofficersofallcountries,\n",
      "andtheGovernmentsofseveralStatesonthetwocontinents,were\n",
      "deeplyinterestedinthematter.\n",
      "Forsometimepastvesselshadbeenmetby\"anenormousthing,\"along\n",
      "object,spindle-shaped,occasionallyphosphorescent,andinfinitely\n",
      "largerandmorerapidinitsmovementsthanawhale.\n",
      "Thefactsrelatingtothisapparition(enteredinvariouslog-books)\n",
      "agreedinmostrespectsastotheshapeoftheobjectorcreaturein\n",
      "question,theuntiringrapidityofitsmovements,itssurprisingpower\n",
      "oflocomotion,andthepeculiarlifewithwhichitseemedendowed.If\n",
      "itwasawhale,itsurpassedinsizeallthosehithertoclassifiedin\n",
      "science.Takingintoconsiderationthemeanofobservationsmadeat\n",
      "diverstimes--rejectingthetimidestimateofthosewhoassignedto\n",
      "thisobjectalengthoftwohundredfeet,equallywiththeexaggerated\n",
      "opinionswhichsetitdownasamileinwidthandthreeinlength--we\n",
      "mightfairlyconcludethatthismysteriousbeingsurpassedgreatlyall\n",
      "dimensionsadmittedbythelearnedonesoftheday,ifitexistedat\n",
      "all.AndthatitDIDexistwasanundeniablefact;and,withthat\n",
      "tendencywhichdisposesthehumanmindinfavourofthemarvellous,we\n",
      "canunderstandtheexcitementproducedintheentireworldbythis\n",
      "supernaturalapparition.Astoclassingitinthelistoffables,the\n",
      "ideawasoutofthequestion.\n",
      "Onthe20thofJuly,1866,thesteamerGovernorHigginson,ofthe\n",
      "CalcuttaandBurnachSteamNavigationCompany,hadmetthismovingmass\n"
     ]
    },
    {
     "data": {
      "text/plain": [
       "4.95"
      ]
     },
     "execution_count": 14,
     "metadata": {},
     "output_type": "execute_result"
    }
   ],
   "source": [
    "modified_avg_word_length(leagues)"
   ]
  },
  {
   "cell_type": "markdown",
   "metadata": {},
   "source": [
    "Immediately, there are 2 noticable bugs:\n",
    "* the Project Gutemberg header, author, release date, etc. are being counted\n",
    "* commas are being counted\n",
    "\n",
    "Both of these hurt the accuracy of our avg_word_length function. To get rid of the header, we can make another filter function:"
   ]
  },
  {
   "cell_type": "code",
   "execution_count": 15,
   "metadata": {},
   "outputs": [],
   "source": [
    "# looking at the previous cell, the header starts end with a line that looks something like:\n",
    "# ***START OF THIS PROJECT GUTEnBERG BOOK {bookname}***\n",
    "# so, we can trigger the filter with the preceding '***'\n",
    "\n",
    "def filter_header(book):\n",
    "    line = 0\n",
    "    while '***' not in book[line]:\n",
    "        line += 1\n",
    "    return book[line+1:]"
   ]
  },
  {
   "cell_type": "markdown",
   "metadata": {},
   "source": [
    "Great! Now, to handle the comma situation, we can modify the body of our avg_word_length function:"
   ]
  },
  {
   "cell_type": "code",
   "execution_count": 16,
   "metadata": {},
   "outputs": [
    {
     "name": "stdout",
     "output_type": "stream",
     "text": [
      "Before bug fixes\n",
      " Leagues: 4.97, Journey: 5.14\n",
      "\n",
      "After big fixes\n",
      " Leagues: 4.88, Journey: 5.06\n",
      "\n",
      "Jules Verne's average word length is 4.97 \n"
     ]
    }
   ],
   "source": [
    "# store unmodified books for reference:\n",
    "old_journey = journey\n",
    "old_leagues = leagues\n",
    "\n",
    "# Correct implementation:\n",
    "\n",
    "journey = filter_header(old_journey)\n",
    "leagues = filter_header(old_leagues)\n",
    "\n",
    "def correct_avg_word_length(book):\n",
    "    \n",
    "    num_words = 0\n",
    "    total_word_length = 0;\n",
    "    \n",
    "    for line in book:\n",
    "        line_as_str = ''\n",
    "        for ch in line:\n",
    "            # count a word every time we hit a space character\n",
    "            if ch == ' ':\n",
    "                num_words += 1\n",
    "            # pass over commas\n",
    "            elif ch == ',':\n",
    "                pass\n",
    "            else:\n",
    "                line_as_str += ch\n",
    "        total_word_length += len(line_as_str)\n",
    "        \n",
    "    return round(total_word_length / num_words, 2)\n",
    "\n",
    "print(f\"Before bug fixes\\n Leagues: {avg_word_length(leagues)}, Journey: {avg_word_length(journey)}\\n\")\n",
    "print(f\"After big fixes\\n Leagues: {correct_avg_word_length(leagues)}, Journey: {correct_avg_word_length(journey)}\\n\")\n",
    "\n",
    "total_avg = round((correct_avg_word_length(leagues) + correct_avg_word_length(journey)) / 2, 2)\n",
    "print(f\"Jules Verne's average word length is {total_avg} \")"
   ]
  },
  {
   "cell_type": "markdown",
   "metadata": {},
   "source": [
    "The difference may seem negligible, but it might make a big difference down the line in other applications that use our calculated data."
   ]
  },
  {
   "cell_type": "markdown",
   "metadata": {},
   "source": [
    "Next, let's see if we can perform a more granular analysis and find the average word length per chapter for each book. First, we need to split each book into chapters."
   ]
  },
  {
   "cell_type": "code",
   "execution_count": 17,
   "metadata": {},
   "outputs": [],
   "source": [
    "# this functions splits the book at each occurence of the word 'chapter,' which prefaces each chapter in both books\n",
    "# however, there is also a table of contents in Journey to the Center of the Earth that includes several instances\n",
    "# of the word 'chapter.' Each entry in the TOC looks like:\n",
    "\n",
    "# - CHAPTER X (chapter name) -\n",
    "\n",
    "# The beginning of each chapter, however, just looks like this:\n",
    "\n",
    "# - CHAPTER X - \n",
    "\n",
    "# Which is a lot shorter. So, by adding a length restraint, we can bypass the TOC\n",
    "\n",
    "def split_chapters(book):\n",
    "    \n",
    "    new_book = {}\n",
    "    current_chapter = []\n",
    "    chapter_num = 0\n",
    "    \n",
    "    for line in book:\n",
    "        \n",
    "        if 'CHAPTER' in line.upper() and len(line) <= len('chapter XX'):\n",
    "            \n",
    "            chapter = f\"Chapter {chapter_num}\"\n",
    "            chapter_num += 1\n",
    "            new_book[chapter] = current_chapter\n",
    "            current_chapter = []\n",
    "            \n",
    "        else:\n",
    "            current_chapter.append(line)\n",
    "            \n",
    "        \n",
    "    return new_book\n",
    "        \n",
    "leagues_chapters = split_chapters(leagues)\n",
    "journey_chapters = split_chapters(journey)"
   ]
  },
  {
   "cell_type": "code",
   "execution_count": 18,
   "metadata": {},
   "outputs": [
    {
     "name": "stdout",
     "output_type": "stream",
     "text": [
      "['MY UNCLE MAKES A GREAT DISCOVERY', 'Looking back to all that has occurred to me since that eventful day, I', 'am scarcely able to believe in the reality of my adventures. They were', 'truly so wonderful that even now I am bewildered when I think of them.', \"My uncle was a German, having married my mother's sister, an\", 'Englishwoman. Being very much attached to his fatherless nephew, he', 'invited me to study under him in his home in the fatherland. This home', 'was in a large town, and my uncle a professor of philosophy, chemistry,', 'geology, mineralogy, and many other ologies.', 'One day, after passing some hours in the laboratory--my uncle being', 'absent at the time--I suddenly felt the necessity of renovating the', 'tissues--<i>i.e.</i>, I was hungry, and was about to rouse up our old French', 'cook, when my uncle, Professor Von Hardwigg, suddenly opened the street', 'door, and came rushing upstairs.', 'Now Professor Hardwigg, my worthy uncle, is by no means a bad sort of', 'man; he is, however, choleric and original. To bear with him means to', 'obey; and scarcely had his heavy feet resounded within our joint', 'domicile than he shouted for me to attend upon him.', '\"Harry--Harry--Harry--\"', 'I hastened to obey, but before I could reach his room, jumping three', 'steps at a time, he was stamping his right foot upon the landing.', '\"Harry!\" he cried, in a frantic tone, \"are you coming up?\"', 'Now to tell the truth, at that moment I was far more interested in the', 'question as to what was to constitute our dinner than in any problem of', 'science; to me soup was more interesting than soda, an omelette more', 'tempting than arithmetic, and an artichoke of ten times more value than', 'any amount of asbestos.', 'But my uncle was not a man to be kept waiting; so adjourning therefore', 'all minor questions, I presented myself before him.', 'He was a very learned man. Now most persons in this category supply', 'themselves with information, as peddlers do with goods, for the benefit', 'of others, and lay up stores in order to diffuse them abroad for the', 'benefit of society in general. Not so my excellent uncle, Professor', 'Hardwigg; he studied, he consumed the midnight oil, he pored over heavy', 'tomes, and digested huge quartos and folios in order to keep the', 'knowledge acquired to himself.', 'There was a reason, and it may be regarded as a good one, why my uncle', 'objected to display his learning more than was absolutely necessary: he', 'stammered; and when intent upon explaining the phenomena of the heavens,', 'was apt to find himself at fault, and allude in such a vague way to sun,', 'moon, and stars that few were able to comprehend his meaning. To tell', 'the honest truth, when the right word would not come, it was generally', 'replaced by a very powerful adjective.', 'In connection with the sciences there are many almost unpronounceable', 'names--names very much resembling those of Welsh villages; and my uncle', 'being very fond of using them, his habit of stammering was not thereby', 'improved. In fact, there were periods in his discourse when he would', 'finally give up and swallow his discomfiture--in a glass of water.', 'As I said, my uncle, Professor Hardwigg, was a very learned man; and I', 'now add a most kind relative. I was bound to him by the double ties of', 'affection and interest. I took deep interest in all his doings, and', 'hoped some day to be almost as learned myself. It was a rare thing for', 'me to be absent from his lectures. Like him, I preferred mineralogy to', 'all the other sciences. My anxiety was to gain real <i>knowledge of the', 'earth</i>. Geology and mineralogy were to us the sole objects of life, and', 'in connection with these studies many a fair specimen of stone, chalk,', 'or metal did we break with our hammers.', 'Steel rods, loadstones, glass pipes, and bottles of various acids were', 'oftener before us than our meals. My uncle Hardwigg was once known to', 'classify six hundred different geological specimens by their weight,', 'hardness, fusibility, sound, taste, and smell.', 'He corresponded with all the great, learned, and scientific men of the', 'age. I was, therefore, in constant communication with, at all events the', 'letters of, Sir Humphry Davy, Captain Franklin, and other great men.', 'But before I state the subject on which my uncle wished to confer with', 'me, I must say a word about his personal appearance. Alas! my readers', 'will see a very different portrait of him at a future time, after he has', 'gone through the fearful adventures yet to be related.', 'My uncle was fifty years old; tall, thin, and wiry. Large spectacles', 'hid, to a certain extent, his vast, round, and goggle eyes, while his', 'nose was irreverently compared to a thin file. So much indeed did it', 'resemble that useful article, that a compass was said in his presence to', 'have made considerable N (Nasal) deviation.', 'The truth being told, however, the only article really attracted to my', \"uncle's nose was tobacco.\", 'Another peculiarity of his was, that he always stepped a yard at a time,', 'clenched his fists as if he were going to hit you, and was, when in one', 'of his peculiar humors, very far from a pleasant companion.', 'It is further necessary to observe that he lived in a very nice house,', 'in that very nice street, the Konigstrasse at Hamburg. Though lying in', 'the centre of a town, it was perfectly rural in its aspect--half wood,', 'half bricks, with old-fashioned gables--one of the few old houses spared', 'by the great fire of 1842.', 'When I say a nice house, I mean a handsome house--old, tottering, and', 'not exactly comfortable to English notions: a house a little off the', 'perpendicular and inclined to fall into the neighboring canal; exactly', 'the house for a wandering artist to depict; all the more that you could', 'scarcely see it for ivy and a magnificent old tree which grew over the', 'door.', 'My uncle was rich; his house was his own property, while he had a', 'considerable private income. To my notion the best part of his', 'possessions was his god-daughter, Gretchen. And the old cook, the young', 'lady, the Professor and I were the sole inhabitants.', 'I loved mineralogy, I loved geology. To me there was nothing like', 'pebbles--and if my uncle had been in a little less of a fury, we should', \"have been the happiest of families. To prove the excellent Hardwigg's\", 'impatience, I solemnly declare that when the flowers in the drawing-room', \"pots began to grow, he rose every morning at four o'clock to make them\", 'grow quicker by pulling the leaves!', 'Having described my uncle, I will now give an account of our interview.', 'He received me in his study; a perfect museum, containing every natural', 'curiosity that can well be imagined--minerals, however, predominating.', 'Every one was familiar to me, having been catalogued by my own hand. My', 'uncle, apparently oblivious of the fact that he had summoned me to his', 'presence, was absorbed in a book. He was particularly fond of early', 'editions, tall copies, and unique works.', '\"Wonderful!\" he cried, tapping his forehead. \"Wonderful--wonderful!\"', 'It was one of those yellow-leaved volumes now rarely found on stalls,', 'and to me it appeared to possess but little value. My uncle, however,', 'was in raptures.', 'He admired its binding, the clearness of its characters, the ease with', 'which it opened in his hand, and repeated aloud, half a dozen times,', 'that it was very, very old.', 'To my fancy he was making a great fuss about nothing, but it was not my', 'province to say so. On the contrary, I professed considerable interest', 'in the subject, and asked him what it was about.', '\"It is the Heims-Kringla of Snorre Tarleson,\" he said, \"the celebrated', 'Icelandic author of the twelfth century--it is a true and correct', 'account of the Norwegian princes who reigned in Iceland.\"', 'My next question related to the language in which it was written. I', 'hoped at all events it was translated into German. My uncle was', \"indignant at the very thought, and declared he wouldn't give a penny for\", 'a translation. His delight was to have found the original work in the', 'Icelandic tongue, which he declared to be one of the most magnificent', 'and yet simple idioms in the world--while at the same time its', 'grammatical combinations were the most varied known to students.', '\"About as easy as German?\" was my insidious remark.', 'My uncle shrugged his shoulders.', '\"The letters at all events,\" I said, \"are rather difficult of', 'comprehension.\"', '\"It is a Runic manuscript, the language of the original population of', 'Iceland, invented by Odin himself,\" cried my uncle, angry at my', 'ignorance.', 'I was about to venture upon some misplaced joke on the subject, when a', 'small scrap of parchment fell out of the leaves. Like a hungry man', 'snatching at a morsel of bread the Professor seized it. It was about', 'five inches by three and was scrawled over in the most extraordinary', 'fashion.', 'The lines shown here are an exact facsimile of what was written on the', 'venerable piece of parchment--and have wonderful importance, as they', 'induced my uncle to undertake the most wonderful series of adventures', 'which ever fell to the lot of human beings.', 'My uncle looked keenly at the document for some moments and then', 'declared that it was Runic. The letters were similar to those in the', 'book, but then what did they mean? This was exactly what I wanted to', 'know.', 'Now as I had a strong conviction that the Runic alphabet and dialect', 'were simply an invention to mystify poor human nature, I was delighted', 'to find that my uncle knew as much about the matter as I did--which was', 'nothing. At all events the tremulous motion of his fingers made me think', 'so.', '\"And yet,\" he muttered to himself, \"it is old Icelandic, I am sure of', 'it.\"', 'And my uncle ought to have known, for he was a perfect polyglot', 'dictionary in himself. He did not pretend, like a certain learned', 'pundit, to speak the two thousand languages and four thousand idioms', 'made use of in different parts of the globe, but he did know all the', 'more important ones.', 'It is a matter of great doubt to me now, to what violent measures my', \"uncle's impetuosity might have led him, had not the clock struck two,\", 'and our old French cook called out to let us know that dinner was on the', 'table.', '\"Bother the dinner!\" cried my uncle.', 'But as I was hungry, I sallied forth to the dining room, where I took up', 'my usual quarters. Out of politeness I waited three minutes, but no sign', 'of my uncle, the Professor. I was surprised. He was not usually so blind', 'to the pleasure of a good dinner. It was the acme of German', 'luxury--parsley soup, a ham omelette with sorrel trimmings, an oyster of', 'veal stewed with prunes, delicious fruit, and sparkling Moselle. For the', 'sake of poring over this musty old piece of parchment, my uncle forbore', 'to share our meal. To satisfy my conscience, I ate for both.', 'The old cook and housekeeper was nearly out of her mind. After taking so', 'much trouble, to find her master not appear at dinner was to her a sad', 'disappointment--which, as she occasionally watched the havoc I was', 'making on the viands, became also alarm. If my uncle were to come to', 'table after all?', 'Suddenly, just as I had consumed the last apple and drunk the last glass', 'of wine, a terrible voice was heard at no great distance. It was my', 'uncle roaring for me to come to him. I made very nearly one leap of', 'it--so loud, so fierce was his tone.'] \n",
      "\n",
      "\n",
      "['AT FULL STEAM', \"At this cry the whole ship's crew hurried towards the\", 'harpooner--commander, officers, masters, sailors, cabin boys; even the', 'engineers left their engines, and the stokers their furnaces.', 'The order to stop her had been given, and the frigate now simply went', 'on by her own momentum.  The darkness was then profound, and, however', \"good the Canadian's eyes were, I asked myself how he had managed to\", 'see, and what he had been able to see.  My heart beat as if it would', 'break.  But Ned Land was not mistaken, and we all perceived the object', \"he pointed to.  At two cables' length from the Abraham Lincoln, on the\", 'starboard quarter, the sea seemed to be illuminated all over.  It was', 'not a mere phosphoric phenomenon.  The monster emerged some fathoms', 'from the water, and then threw out that very intense but mysterious', 'light mentioned in the report of several captains.  This magnificent', 'irradiation must have been produced by an agent of great SHINING power.', 'The luminous part traced on the sea an immense oval, much elongated,', 'the centre of which condensed a burning heat, whose overpowering', 'brilliancy died out by successive gradations.', '\"It is only a massing of phosphoric particles,\" cried one of the', 'officers.', '\"No, sir, certainly not,\" I replied.  \"That brightness is of an', 'essentially electrical nature.  Besides, see, see! it moves; it is', 'moving forwards, backwards; it is darting towards us!\"', 'A general cry arose from the frigate.', '\"Silence!\" said the captain.  \"Up with the helm, reverse the engines.\"', 'The steam was shut off, and the Abraham Lincoln, beating to port,', 'described a semicircle.', '\"Right the helm, go ahead,\" cried the captain.', 'These orders were executed, and the frigate moved rapidly from the', 'burning light.', 'I was mistaken.  She tried to sheer off, but the supernatural animal', 'approached with a velocity double her own.', 'We gasped for breath.  Stupefaction more than fear made us dumb and', 'motionless.  The animal gained on us, sporting with the waves.  It made', 'the round of the frigate, which was then making fourteen knots, and', 'enveloped it with its electric rings like luminous dust.', 'Then it moved away two or three miles, leaving a phosphorescent track,', 'like those volumes of steam that the express trains leave behind.  All', 'at once from the dark line of the horizon whither it retired to gain', 'its momentum, the monster rushed suddenly towards the Abraham Lincoln', 'with alarming rapidity, stopped suddenly about twenty feet from the', 'hull, and died out--not diving under the water, for its brilliancy did', 'not abate--but suddenly, and as if the source of this brilliant', 'emanation was exhausted.  Then it reappeared on the other side of the', 'vessel, as if it had turned and slid under the hull.  Any moment a', 'collision might have occurred which would have been fatal to us.', 'However, I was astonished at the manoeuvres of the frigate.  She fled', 'and did not attack.', \"On the captain's face, generally so impassive, was an expression of\", 'unaccountable astonishment.', '\"Mr. Aronnax,\" he said, \"I do not know with what formidable being I', 'have to deal, and I will not imprudently risk my frigate in the midst', 'of this darkness.  Besides, how attack this unknown thing, how defend', 'one\\'s self from it?  Wait for daylight, and the scene will change.\"', '\"You have no further doubt, captain, of the nature of the animal?\"', '\"No, sir; it is evidently a gigantic narwhal, and an electric one.\"', '\"Perhaps,\" added I, \"one can only approach it with a torpedo.\"', '\"Undoubtedly,\" replied the captain, \"if it possesses such dreadful', 'power, it is the most terrible animal that ever was created.  That is', 'why, sir, I must be on my guard.\"', 'The crew were on their feet all night.  No one thought of sleep.  The', 'Abraham Lincoln, not being able to struggle with such velocity, had', 'moderated its pace, and sailed at half speed.  For its part, the', 'narwhal, imitating the frigate, let the waves rock it at will, and', 'seemed decided not to leave the scene of the struggle.  Towards', 'midnight, however, it disappeared, or, to use a more appropriate term,', 'it \"died out\" like a large glow-worm. Had it fled?  One could only', \"fear, not hope it.  But at seven minutes to one o'clock in the morning\", 'a deafening whistling was heard, like that produced by a body of water', 'rushing with great violence.', 'The captain, Ned Land, and I were then on the poop, eagerly peering', 'through the profound darkness.', '\"Ned Land,\" asked the commander, \"you have often heard the roaring of', 'whales?\"', '\"Often, sir; but never such whales the sight of which brought me in two', \"thousand dollars.  If I can only approach within four harpoons' length\", 'of it!\"', '\"But to approach it,\" said the commander, \"I ought to put a whaler at', 'your disposal?\"', '\"Certainly, sir.\"', '\"That will be trifling with the lives of my men.\"', '\"And mine too,\" simply said the harpooner.', \"Towards two o'clock in the morning, the burning light reappeared, not\", 'less intense, about five miles to windward of the Abraham Lincoln.', 'Notwithstanding the distance, and the noise of the wind and sea, one', \"heard distinctly the loud strokes of the animal's tail, and even its\", 'panting breath.  It seemed that, at the moment that the enormous', 'narwhal had come to take breath at the surface of the water, the air', 'was engulfed in its lungs, like the steam in the vast cylinders of a', 'machine of two thousand horse-power.', '\"Hum!\" thought I, \"a whale with the strength of a cavalry regiment', 'would be a pretty whale!\"', 'We were on the qui vive till daylight, and prepared for the combat.', 'The fishing implements were laid along the hammock nettings.  The', 'second lieutenant loaded the blunder busses, which could throw harpoons', 'to the distance of a mile, and long duck-guns, with explosive bullets,', 'which inflicted mortal wounds even to the most terrible animals.  Ned', 'Land contented himself with sharpening his harpoon--a terrible weapon', 'in his hands.', \"At six o'clock day began to break; and, with the first glimmer of\", \"light, the electric light of the narwhal disappeared.  At seven o'clock\", 'the day was sufficiently advanced, but a very thick sea fog obscured', 'our view, and the best spy glasses could not pierce it.  That caused', 'disappointment and anger.', 'I climbed the mizzen-mast. Some officers were already perched on the', \"mast-heads. At eight o'clock the fog lay heavily on the waves, and its\", 'thick scrolls rose little by little.  The horizon grew wider and', 'clearer at the same time.  Suddenly, just as on the day before, Ned', \"Land's voice was heard:\", '\"The thing itself on the port quarter!\" cried the harpooner.', 'Every eye was turned towards the point indicated.  There, a mile and a', 'half from the frigate, a long blackish body emerged a yard above the', 'waves.  Its tail, violently agitated, produced a considerable eddy.', 'Never did a tail beat the sea with such violence.  An immense track, of', 'dazzling whiteness, marked the passage of the animal, and described a', 'long curve.', 'The frigate approached the cetacean.  I examined it thoroughly.', 'The reports of the Shannon and of the Helvetia had rather exaggerated', 'its size, and I estimated its length at only two hundred and fifty', 'feet.  As to its dimensions, I could only conjecture them to be', 'admirably proportioned.  While I watched this phenomenon, two jets of', 'steam and water were ejected from its vents, and rose to the height of', '120 feet; thus I ascertained its way of breathing.  I concluded', 'definitely that it belonged to the vertebrate branch, class mammalia.', \"The crew waited impatiently for their chief's orders.  The latter,\", 'after having observed the animal attentively, called the engineer.  The', 'engineer ran to him.', '\"Sir,\" said the commander, \"you have steam up?\"', '\"Yes, sir,\" answered the engineer.', '\"Well, make up your fires and put on all steam.\"', 'Three hurrahs greeted this order.  The time for the struggle had', 'arrived.  Some moments after, the two funnels of the frigate vomited', 'torrents of black smoke, and the bridge quaked under the trembling of', 'the boilers.', 'The Abraham Lincoln, propelled by her wonderful screw, went straight at', \"the animal.  The latter allowed it to come within half a cable's\", 'length; then, as if disdaining to dive, it took a little turn, and', 'stopped a short distance off.', 'This pursuit lasted nearly three-quarters of an hour, without the', 'frigate gaining two yards on the cetacean.  It was quite evident that', 'at that rate we should never come up with it.', '\"Well, Mr. Land,\" asked the captain, \"do you advise me to put the boats', 'out to sea?\"', '\"No, sir,\" replied Ned Land; \"because we shall not take that beast', 'easily.\"', '\"What shall we do then?\"', '\"Put on more steam if you can, sir.  With your leave, I mean to post', 'myself under the bowsprit, and, if we get within harpooning distance, I', 'shall throw my harpoon.\"', '\"Go, Ned,\" said the captain.  \"Engineer, put on more pressure.\"', 'Ned Land went to his post.  The fires were increased, the screw', 'revolved forty-three times a minute, and the steam poured out of the', 'valves.  We heaved the log, and calculated that the Abraham Lincoln was', 'going at the rate of 18 1/2 miles an hour.', 'But the accursed animal swam at the same speed.', 'For a whole hour the frigate kept up this pace, without gaining six', 'feet.  It was humiliating for one of the swiftest sailers in the', 'American navy.  A stubborn anger seized the crew; the sailors abused', 'the monster, who, as before, disdained to answer them; the captain no', 'longer contented himself with twisting his beard--he gnawed it.', 'The engineer was called again.', '\"You have turned full steam on?\"', '\"Yes, sir,\" replied the engineer.', 'The speed of the Abraham Lincoln increased.  Its masts trembled down to', 'their stepping holes, and the clouds of smoke could hardly find way out', 'of the narrow funnels.', 'They heaved the log a second time.', '\"Well?\" asked the captain of the man at the wheel.', '\"Nineteen miles and three-tenths, sir.\"', '\"Clap on more steam.\"', 'The engineer obeyed.  The manometer showed ten degrees.  But the', 'cetacean grew warm itself, no doubt; for without straining itself, it', 'made 19 3/10 miles.', 'What a pursuit!  No, I cannot describe the emotion that vibrated', 'through me.  Ned Land kept his post, harpoon in hand.  Several times', 'the animal let us gain upon it.--\"We shall catch it! we shall catch', 'it!\" cried the Canadian.  But just as he was going to strike, the', 'cetacean stole away with a rapidity that could not be estimated at less', 'than thirty miles an hour, and even during our maximum of speed, it', 'bullied the frigate, going round and round it.  A cry of fury broke', 'from everyone!', \"At noon we were no further advanced than at eight o'clock in the\", 'morning.', 'The captain then decided to take more direct means.', '\"Ah!\" said he, \"that animal goes quicker than the Abraham Lincoln.', 'Very well! we will see whether it will escape these conical bullets.', 'Send your men to the forecastle, sir.\"', 'The forecastle gun was immediately loaded and slewed round.  But the', 'shot passed some feet above the cetacean, which was half a mile off.', '\"Another, more to the right,\" cried the commander, \"and five dollars to', 'whoever will hit that infernal beast.\"', 'An old gunner with a grey beard--that I can see now--with steady eye', 'and grave face, went up to the gun and took a long aim.  A loud report', 'was heard, with which were mingled the cheers of the crew.', 'The bullet did its work; it hit the animal, and, sliding off the', 'rounded surface, was lost in two miles depth of sea.', 'The chase began again, and the captain, leaning towards me, said:', '\"I will pursue that beast till my frigate bursts up.\"', '\"Yes,\" answered I; \"and you will be quite right to do it.\"', 'I wished the beast would exhaust itself, and not be insensible to', 'fatigue like a steam engine.  But it was of no use.  Hours passed,', 'without its showing any signs of exhaustion.', 'However, it must be said in praise of the Abraham Lincoln that she', 'struggled on indefatigably.  I cannot reckon the distance she made', 'under three hundred miles during this unlucky day, November the 6th.', 'But night came on, and overshadowed the rough ocean.', 'Now I thought our expedition was at an end, and that we should never', 'again see the extraordinary animal.  I was mistaken.  At ten minutes to', 'eleven in the evening, the electric light reappeared three miles to', 'windward of the frigate, as pure, as intense as during the preceding', 'night.', \"The narwhal seemed motionless; perhaps, tired with its day's work, it\", 'slept, letting itself float with the undulation of the waves.  Now was', 'a chance of which the captain resolved to take advantage.', 'He gave his orders.  The Abraham Lincoln kept up half steam, and', 'advanced cautiously so as not to awake its adversary.  It is no rare', 'thing to meet in the middle of the ocean whales so sound asleep that', 'they can be successfully attacked, and Ned Land had harpooned more than', 'one during its sleep.  The Canadian went to take his place again under', 'the bowsprit.', \"The frigate approached noiselessly, stopped at two cables' lengths from\", 'the animal, and following its track.  No one breathed; a deep silence', 'reigned on the bridge.  We were not a hundred feet from the burning', 'focus, the light of which increased and dazzled our eyes.', 'At this moment, leaning on the forecastle bulwark, I saw below me Ned', 'Land grappling the martingale in one hand, brandishing his terrible', 'harpoon in the other, scarcely twenty feet from the motionless animal.', 'Suddenly his arm straightened, and the harpoon was thrown; I heard the', 'sonorous stroke of the weapon, which seemed to have struck a hard body.', 'The electric light went out suddenly, and two enormous waterspouts', 'broke over the bridge of the frigate, rushing like a torrent from stem', 'to stern, overthrowing men, and breaking the lashings of the spars.  A', 'fearful shock followed, and, thrown over the rail without having time', 'to stop myself, I fell into the sea.', 'CHAPTER VII', 'AN UNKNOWN SPECIES OF WHALE', 'This unexpected fall so stunned me that I have no clear recollection of', 'my sensations at the time.  I was at first drawn down to a depth of', 'about twenty feet.  I am a good swimmer (though without pretending to', 'rival Byron or Edgar Poe, who were masters of the art), and in that', 'plunge I did not lose my presence of mind.  Two vigorous strokes', 'brought me to the surface of the water.  My first care was to look for', 'the frigate.  Had the crew seen me disappear?  Had the Abraham Lincoln', 'veered round?  Would the captain put out a boat?  Might I hope to be', 'saved?', 'The darkness was intense.  I caught a glimpse of a black mass', 'disappearing in the east, its beacon lights dying out in the distance.', 'It was the frigate!  I was lost.', '\"Help, help!\"  I shouted, swimming towards the Abraham Lincoln in', 'desperation.', 'My clothes encumbered me; they seemed glued to my body, and paralysed', 'my movements.', 'I was sinking!  I was suffocating!', '\"Help!\"', 'This was my last cry.  My mouth filled with water; I struggled against', 'being drawn down the abyss.  Suddenly my clothes were seized by a', 'strong hand, and I felt myself quickly drawn up to the surface of the', 'sea; and I heard, yes, I heard these words pronounced in my ear:', '\"If master would be so good as to lean on my shoulder, master would', 'swim with much greater ease.\"', \"I seized with one hand my faithful Conseil's arm.\", '\"Is it you?\" said I, \"you?\"', '\"Myself,\" answered Conseil; \"and waiting master\\'s orders.\"', '\"That shock threw you as well as me into the sea?\"', '\"No; but, being in my master\\'s service, I followed him.\"', 'The worthy fellow thought that was but natural.', '\"And the frigate?\"  I asked.', '\"The frigate?\" replied Conseil, turning on his back; \"I think that', 'master had better not count too much on her.\"', '\"You think so?\"', '\"I say that, at the time I threw myself into the sea, I heard the men', \"at the wheel say, `The screw and the rudder are broken.'\", '\"Broken?\"', '\"Yes, broken by the monster\\'s teeth.  It is the only injury the Abraham', 'Lincoln has sustained.  But it is a bad look-out for us--she no longer', 'answers her helm.\"', '\"Then we are lost!\"', '\"Perhaps so,\" calmly answered Conseil.  \"However, we have still several', 'hours before us, and one can do a good deal in some hours.\"', \"Conseil's imperturbable coolness set me up again.  I swam more\", 'vigorously; but, cramped by my clothes, which stuck to me like a leaden', 'weight, I felt great difficulty in bearing up.  Conseil saw this.', '\"Will master let me make a slit?\" said he; and, slipping an open knife', 'under my clothes, he ripped them up from top to bottom very rapidly.', 'Then he cleverly slipped them off me, while I swam for both of us.', 'Then I did the same for Conseil, and we continued to swim near to each', 'other.', 'Nevertheless, our situation was no less terrible.  Perhaps our', 'disappearance had not been noticed; and, if it had been, the frigate', 'could not tack, being without its helm.  Conseil argued on this', 'supposition, and laid his plans accordingly.  This quiet boy was', 'perfectly self-possessed. We then decided that, as our only chance of', \"safety was being picked up by the Abraham Lincoln's boats, we ought to\", 'manage so as to wait for them as long as possible.  I resolved then to', 'husband our strength, so that both should not be exhausted at the same', 'time; and this is how we managed:  while one of us lay on our back,', 'quite still, with arms crossed, and legs stretched out, the other would', 'swim and push the other on in front.  This towing business did not last', 'more than ten minutes each; and relieving each other thus, we could', 'swim on for some hours, perhaps till day-break. Poor chance! but hope', 'is so firmly rooted in the heart of man!  Moreover, there were two of', 'us.  Indeed I declare (though it may seem improbable) if I sought to', 'destroy all hope--if I wished to despair, I could not.', 'The collision of the frigate with the cetacean had occurred about', \"eleven o'clock in the evening before.  I reckoned then we should have\", 'eight hours to swim before sunrise, an operation quite practicable if', 'we relieved each other.  The sea, very calm, was in our favour.', 'Sometimes I tried to pierce the intense darkness that was only', 'dispelled by the phosphorescence caused by our movements.  I watched', 'the luminous waves that broke over my hand, whose mirror-like surface', 'was spotted with silvery rings.  One might have said that we were in a', 'bath of quicksilver.', \"Near one o'clock in the morning, I was seized with dreadful fatigue.\", 'My limbs stiffened under the strain of violent cramp.  Conseil was', 'obliged to keep me up, and our preservation devolved on him alone.  I', 'heard the poor boy pant; his breathing became short and hurried.  I', 'found that he could not keep up much longer.', '\"Leave me! leave me!\"  I said to him.', '\"Leave my master?  Never!\" replied he.  \"I would drown first.\"', 'Just then the moon appeared through the fringes of a thick cloud that', 'the wind was driving to the east.  The surface of the sea glittered', 'with its rays.  This kindly light reanimated us.  My head got better', 'again.  I looked at all points of the horizon.  I saw the frigate!  She', 'was five miles from us, and looked like a dark mass, hardly', 'discernible.  But no boats!', 'I would have cried out.  But what good would it have been at such a', 'distance!  My swollen lips could utter no sounds.  Conseil could', 'articulate some words, and I heard him repeat at intervals, \"Help!', 'help!\"', 'Our movements were suspended for an instant; we listened.  It might be', 'only a singing in the ear, but it seemed to me as if a cry answered the', 'cry from Conseil.', '\"Did you hear?\"  I murmured.', '\"Yes!  Yes!\"', 'And Conseil gave one more despairing cry.', 'This time there was no mistake!  A human voice responded to ours!  Was', 'it the voice of another unfortunate creature, abandoned in the middle', 'of the ocean, some other victim of the shock sustained by the vessel?', 'Or rather was it a boat from the frigate, that was hailing us in the', 'darkness?', 'Conseil made a last effort, and, leaning on my shoulder, while I struck', 'out in a desperate effort, he raised himself half out of the water,', 'then fell back exhausted.', '\"What did you see?\"', '\"I saw----\" murmured he; \"I saw--but do not talk--reserve all your', 'strength!\"', 'What had he seen?  Then, I know not why, the thought of the monster', 'came into my head for the first time!  But that voice!  The time is', \"past for Jonahs to take refuge in whales' bellies!  However, Conseil\", 'was towing me again.  He raised his head sometimes, looked before us,', 'and uttered a cry of recognition, which was responded to by a voice', 'that came nearer and nearer.  I scarcely heard it.  My strength was', 'exhausted; my fingers stiffened; my hand afforded me support no longer;', 'my mouth, convulsively opening, filled with salt water.  Cold crept', 'over me.  I raised my head for the last time, then I sank.', 'At this moment a hard body struck me.  I clung to it: then I felt that', 'I was being drawn up, that I was brought to the surface of the water,', 'that my chest collapsed--I fainted.', 'It is certain that I soon came to, thanks to the vigorous rubbings that', 'I received.  I half opened my eyes.', '\"Conseil!\"  I murmured.', '\"Does master call me?\" asked Conseil.', 'Just then, by the waning light of the moon which was sinking down to', \"the horizon, I saw a face which was not Conseil's and which I\", 'immediately recognised.', '\"Ned!\"  I cried.', '\"The same, sir, who is seeking his prize!\" replied the Canadian.', '\"Were you thrown into the sea by the shock to the frigate?\"', '\"Yes, Professor; but more fortunate than you, I was able to find a', 'footing almost directly upon a floating island.\"', '\"An island?\"', '\"Or, more correctly speaking, on our gigantic narwhal.\"', '\"Explain yourself, Ned!\"', '\"Only I soon found out why my harpoon had not entered its skin and was', 'blunted.\"', '\"Why, Ned, why?\"', '\"Because, Professor, that beast is made of sheet iron.\"', \"The Canadian's last words produced a sudden revolution in my brain.  I\", 'wriggled myself quickly to the top of the being, or object, half out of', 'the water, which served us for a refuge.  I kicked it.  It was', 'evidently a hard, impenetrable body, and not the soft substance that', 'forms the bodies of the great marine mammalia.  But this hard body', 'might be a bony covering, like that of the antediluvian animals; and I', 'should be free to class this monster among amphibious reptiles, such as', 'tortoises or alligators.', 'Well, no! the blackish back that supported me was smooth, polished,', 'without scales.  The blow produced a metallic sound; and, incredible', 'though it may be, it seemed, I might say, as if it was made of riveted', 'plates.', 'There was no doubt about it!  This monster, this natural phenomenon', 'that had puzzled the learned world, and over thrown and misled the', 'imagination of seamen of both hemispheres, it must be owned was a still', 'more astonishing phenomenon, inasmuch as it was a simply human', 'construction.', 'We had no time to lose, however.  We were lying upon the back of a sort', 'of submarine boat, which appeared (as far as I could judge) like a huge', \"fish of steel.  Ned Land's mind was made up on this point.  Conseil and\", 'I could only agree with him.', 'Just then a bubbling began at the back of this strange thing (which was', 'evidently propelled by a screw), and it began to move.  We had only', 'just time to seize hold of the upper part, which rose about seven feet', 'out of the water, and happily its speed was not great.', '\"As long as it sails horizontally,\" muttered Ned Land, \"I do not mind;', 'but, if it takes a fancy to dive, I would not give two straws for my', 'life.\"', 'The Canadian might have said still less.  It became really necessary to', 'communicate with the beings, whatever they were, shut up inside the', 'machine.  I searched all over the outside for an aperture, a panel, or', 'a manhole, to use a technical expression; but the lines of the iron', 'rivets, solidly driven into the joints of the iron plates, were clear', 'and uniform.  Besides, the moon disappeared then, and left us in total', 'darkness.', 'At last this long night passed.  My indistinct remembrance prevents my', 'describing all the impressions it made.  I can only recall one', 'circumstance.  During some lulls of the wind and sea, I fancied I heard', 'several times vague sounds, a sort of fugitive harmony produced by', 'words of command.  What was, then, the mystery of this submarine craft,', 'of which the whole world vainly sought an explanation?  What kind of', 'beings existed in this strange boat?  What mechanical agent caused its', 'prodigious speed?', 'Daybreak appeared.  The morning mists surrounded us, but they soon', 'cleared off.  I was about to examine the hull, which formed on deck a', 'kind of horizontal platform, when I felt it gradually sinking.', '\"Oh! confound it!\" cried Ned Land, kicking the resounding plate.', '\"Open, you inhospitable rascals!\"', 'Happily the sinking movement ceased.  Suddenly a noise, like iron works', 'violently pushed aside, came from the interior of the boat.  One iron', 'plate was moved, a man appeared, uttered an odd cry, and disappeared', 'immediately.', 'Some moments after, eight strong men, with masked faces, appeared', 'noiselessly, and drew us down into their formidable machine.', 'CHAPTER VIII', 'MOBILIS IN MOBILI', 'This forcible abduction, so roughly carried out, was accomplished with', 'the rapidity of lightning.  I shivered all over.  Whom had we to deal', 'with?  No doubt some new sort of pirates, who explored the sea in their', 'own way.  Hardly had the narrow panel closed upon me, when I was', 'enveloped in darkness.  My eyes, dazzled with the outer light, could', 'distinguish nothing.  I felt my naked feet cling to the rungs of an', 'iron ladder.  Ned Land and Conseil, firmly seized, followed me.  At the', 'bottom of the ladder, a door opened, and shut after us immediately with', 'a bang.', 'We were alone.  Where, I could not say, hardly imagine.  All was black,', 'and such a dense black that, after some minutes, my eyes had not been', 'able to discern even the faintest glimmer.', 'Meanwhile, Ned Land, furious at these proceedings, gave free vent to', 'his indignation.', '\"Confound it!\" cried he, \"here are people who come up to the Scotch for', 'hospitality.  They only just miss being cannibals.  I should not be', 'surprised at it, but I declare that they shall not eat me without my', 'protesting.\"', '\"Calm yourself, friend Ned, calm yourself,\" replied Conseil, quietly.', '\"Do not cry out before you are hurt.  We are not quite done for yet.\"', '\"Not quite,\" sharply replied the Canadian, \"but pretty near, at all', 'events.  Things look black.  Happily, my bowie knife I have still, and', 'I can always see well enough to use it.  The first of these pirates who', 'lays a hand on me----\"', '\"Do not excite yourself, Ned,\" I said to the harpooner, \"and do not', 'compromise us by useless violence.  Who knows that they will not listen', 'to us?  Let us rather try to find out where we are.\"', 'I groped about.  In five steps I came to an iron wall, made of plates', 'bolted together.  Then turning back I struck against a wooden table,', 'near which were ranged several stools.  The boards of this prison were', 'concealed under a thick mat, which deadened the noise of the feet.  The', 'bare walls revealed no trace of window or door.  Conseil, going round', 'the reverse way, met me, and we went back to the middle of the cabin,', 'which measured about twenty feet by ten.  As to its height, Ned Land,', 'in spite of his own great height, could not measure it.', 'Half an hour had already passed without our situation being bettered,', 'when the dense darkness suddenly gave way to extreme light.  Our prison', 'was suddenly lighted, that is to say, it became filled with a luminous', 'matter, so strong that I could not bear it at first.  In its whiteness', 'and intensity I recognised that electric light which played round the', 'submarine boat like a magnificent phenomenon of phosphorescence.  After', 'shutting my eyes involuntarily, I opened them, and saw that this', 'luminous agent came from a half globe, unpolished, placed in the roof', 'of the cabin.', '\"At last one can see,\" cried Ned Land, who, knife in hand, stood on the', 'defensive.', '\"Yes,\" said I; \"but we are still in the dark about ourselves.\"', '\"Let master have patience,\" said the imperturbable Conseil.', 'The sudden lighting of the cabin enabled me to examine it minutely.  It', 'only contained a table and five stools.  The invisible door might be', 'hermetically sealed.  No noise was heard.  All seemed dead in the', 'interior of this boat.  Did it move, did it float on the surface of the', 'ocean, or did it dive into its depths?  I could not guess.', 'A noise of bolts was now heard, the door opened, and two men appeared.', 'One was short, very muscular, broad-shouldered, with robust limbs,', 'strong head, an abundance of black hair, thick moustache, a quick', 'penetrating look, and the vivacity which characterises the population', 'of Southern France.', 'The second stranger merits a more detailed description.  I made out his', 'prevailing qualities directly:  self-confidence--because his head was', 'well set on his shoulders, and his black eyes looked around with cold', 'assurance; calmness--for his skin, rather pale, showed his coolness of', 'blood; energy--evinced by the rapid contraction of his lofty brows; and', 'courage--because his deep breathing denoted great power of lungs.', 'Whether this person was thirty-five or fifty years of age, I could not', 'say.  He was tall, had a large forehead, straight nose, a clearly cut', 'mouth, beautiful teeth, with fine taper hands, indicative of a highly', 'nervous temperament.  This man was certainly the most admirable', 'specimen I had ever met.  One particular feature was his eyes, rather', 'far from each other, and which could take in nearly a quarter of the', 'horizon at once.', 'This faculty--(I verified it later)--gave him a range of vision far', \"superior to Ned Land's. When this stranger fixed upon an object, his\", 'eyebrows met, his large eyelids closed around so as to contract the', 'range of his vision, and he looked as if he magnified the objects', 'lessened by distance, as if he pierced those sheets of water so opaque', 'to our eyes, and as if he read the very depths of the seas.', 'The two strangers, with caps made from the fur of the sea otter, and', \"shod with sea boots of seal's skin, were dressed in clothes of a\", 'particular texture, which allowed free movement of the limbs.  The', 'taller of the two, evidently the chief on board, examined us with great', 'attention, without saying a word; then, turning to his companion,', 'talked with him in an unknown tongue.  It was a sonorous, harmonious,', 'and flexible dialect, the vowels seeming to admit of very varied', 'accentuation.', 'The other replied by a shake of the head, and added two or three', 'perfectly incomprehensible words.  Then he seemed to question me by a', 'look.', 'I replied in good French that I did not know his language; but he', 'seemed not to understand me, and my situation became more embarrassing.', '\"If master were to tell our story,\" said Conseil, \"perhaps these', 'gentlemen may understand some words.\"', 'I began to tell our adventures, articulating each syllable clearly, and', 'without omitting one single detail.  I announced our names and rank,', 'introducing in person Professor Aronnax, his servant Conseil, and', 'master Ned Land, the harpooner.', 'The man with the soft calm eyes listened to me quietly, even politely,', 'and with extreme attention; but nothing in his countenance indicated', 'that he had understood my story.  When I finished, he said not a word.', 'There remained one resource, to speak English.  Perhaps they would know', 'this almost universal language.  I knew it--as well as the German', 'language--well enough to read it fluently, but not to speak it', 'correctly.  But, anyhow, we must make ourselves understood.', '\"Go on in your turn,\" I said to the harpooner; \"speak your best', 'Anglo-Saxon, and try to do better than I.\"', 'Ned did not beg off, and recommenced our story.', 'To his great disgust, the harpooner did not seem to have made himself', 'more intelligible than I had.  Our visitors did not stir.  They', 'evidently understood neither the language of England nor of France.', 'Very much embarrassed, after having vainly exhausted our speaking', 'resources, I knew not what part to take, when Conseil said:', '\"If master will permit me, I will relate it in German.\"', 'But in spite of the elegant terms and good accent of the narrator, the', 'German language had no success.  At last, nonplussed, I tried to', 'remember my first lessons, and to narrate our adventures in Latin, but', 'with no better success.  This last attempt being of no avail, the two', 'strangers exchanged some words in their unknown language, and retired.', 'The door shut.', '\"It is an infamous shame,\" cried Ned Land, who broke out for the', 'twentieth time.  \"We speak to those rogues in French, English, German,', 'and Latin, and not one of them has the politeness to answer!\"', '\"Calm yourself,\" I said to the impetuous Ned; \"anger will do no good.\"', '\"But do you see, Professor,\" replied our irascible companion, \"that we', 'shall absolutely die of hunger in this iron cage?\"', '\"Bah!\" said Conseil, philosophically; \"we can hold out some time yet.\"', '\"My friends,\" I said, \"we must not despair.  We have been worse off', 'than this.  Do me the favour to wait a little before forming an opinion', 'upon the commander and crew of this boat.\"', '\"My opinion is formed,\" replied Ned Land, sharply.  \"They are rascals.\"', '\"Good! and from what country?\"', '\"From the land of rogues!\"', '\"My brave Ned, that country is not clearly indicated on the map of the', 'world; but I admit that the nationality of the two strangers is hard to', 'determine.  Neither English, French, nor German, that is quite certain.', 'However, I am inclined to think that the commander and his companion', 'were born in low latitudes.  There is southern blood in them.  But I', 'cannot decide by their appearance whether they are Spaniards, Turks,', 'Arabians, or Indians.  As to their language, it is quite', 'incomprehensible.\"', '\"There is the disadvantage of not knowing all languages,\" said Conseil,', '\"or the disadvantage of not having one universal language.\"', 'As he said these words, the door opened.  A steward entered.  He', 'brought us clothes, coats and trousers, made of a stuff I did not know.', 'I hastened to dress myself, and my companions followed my example.', 'During that time, the steward--dumb, perhaps deaf--had arranged the', 'table, and laid three plates.', '\"This is something like!\" said Conseil.', '\"Bah!\" said the angry harpooner, \"what do you suppose they eat here?', 'Tortoise liver, filleted shark, and beef steaks from seadogs.\"', '\"We shall see,\" said Conseil.', 'The dishes, of bell metal, were placed on the table, and we took our', 'places.  Undoubtedly we had to do with civilised people, and, had it', 'not been for the electric light which flooded us, I could have fancied', 'I was in the dining-room of the Adelphi Hotel at Liverpool, or at the', 'Grand Hotel in Paris.  I must say, however, that there was neither', 'bread nor wine.  The water was fresh and clear, but it was water and', \"did not suit Ned Land's taste.  Amongst the dishes which were brought\", 'to us, I recognised several fish delicately dressed; but of some,', 'although excellent, I could give no opinion, neither could I tell to', 'what kingdom they belonged, whether animal or vegetable.  As to the', 'dinner-service, it was elegant, and in perfect taste.  Each', 'utensil--spoon, fork, knife, plate--had a letter engraved on it, with a', 'motto above it, of which this is an exact facsimile:', 'MOBILIS IN MOBILI N', 'The letter N was no doubt the initial of the name of the enigmatical', 'person who commanded at the bottom of the seas.', 'Ned and Conseil did not reflect much.  They devoured the food, and I', 'did likewise.  I was, besides, reassured as to our fate; and it seemed', 'evident that our hosts would not let us die of want.', 'However, everything has an end, everything passes away, even the hunger', 'of people who have not eaten for fifteen hours.  Our appetites', 'satisfied, we felt overcome with sleep.', '\"Faith!  I shall sleep well,\" said Conseil.', '\"So shall I,\" replied Ned Land.', 'My two companions stretched themselves on the cabin carpet, and were', 'soon sound asleep.  For my own part, too many thoughts crowded my', 'brain, too many insoluble questions pressed upon me, too many fancies', 'kept my eyes half open.  Where were we?  What strange power carried us', 'on?  I felt--or rather fancied I felt--the machine sinking down to the', 'lowest beds of the sea.  Dreadful nightmares beset me; I saw in these', 'mysterious asylums a world of unknown animals, amongst which this', 'submarine boat seemed to be of the same kind, living, moving, and', 'formidable as they.  Then my brain grew calmer, my imagination wandered', 'into vague unconsciousness, and I soon fell into a deep sleep.']\n"
     ]
    }
   ],
   "source": [
    "# just to confirm it works...\n",
    "\n",
    "print(journey_chapters[\"Chapter 1\"], \"\\n\\n\")\n",
    "print(leagues_chapters[\"Chapter 5\"])"
   ]
  },
  {
   "cell_type": "markdown",
   "metadata": {},
   "source": [
    "Great! That's a lot of text, though. Let's see if we can just print out the title of each chapter."
   ]
  },
  {
   "cell_type": "code",
   "execution_count": 19,
   "metadata": {},
   "outputs": [
    {
     "name": "stdout",
     "output_type": "stream",
     "text": [
      "Chapter 0 This etext was done by a number of anonymous volunteers of the\n",
      "Chapter 1 A SHIFTING REEF\n",
      "Chapter 2 PRO AND CON\n",
      "Chapter 3 NED LAND\n",
      "Chapter 4 AT A VENTURE\n",
      "Chapter 5 AT FULL STEAM\n",
      "Chapter 6 NED LAND'S TEMPERS\n",
      "Chapter 7 THE MAN OF THE SEAS\n",
      "Chapter 8 ALL BY ELECTRICITY\n",
      "Chapter 9 A WALK ON THE BOTTOM OF THE SEA\n",
      "Chapter 10 A FEW DAYS ON LAND\n",
      "Chapter 11 THE INDIAN OCEAN\n",
      "Chapter 12 A NOVEL PROPOSAL OF CAPTAIN NEMO'S\n",
      "Chapter 13 THE RED SEA\n",
      "Chapter 14 THE ARABIAN TUNNEL\n",
      "Chapter 15 THE GRECIAN ARCHIPELAGO\n",
      "Chapter 16 A VANISHED CONTINENT\n",
      "Chapter 17 THE SUBMARINE COAL-MINES\n",
      "Chapter 18 THE SARGASSO SEA\n",
      "Chapter 19 ACCIDENT OR INCIDENT?\n"
     ]
    }
   ],
   "source": [
    "for k, v in leagues_chapters.items():\n",
    "    print(k, v[0])"
   ]
  },
  {
   "cell_type": "code",
   "execution_count": 20,
   "metadata": {},
   "outputs": [
    {
     "name": "stdout",
     "output_type": "stream",
     "text": [
      "Chapter 0 Produced by Norm Wolcott\n",
      "Chapter 1 MY UNCLE MAKES A GREAT DISCOVERY\n",
      "Chapter 2 THE MYSTERIOUS PARCHMENT\n",
      "Chapter 3 AN ASTOUNDING DISCOVERY\n",
      "Chapter 4 WE START ON THE JOURNEY\n",
      "Chapter 5 First Lessons in Climbing\n",
      "Chapter 6 Our Voyage to Iceland\n",
      "Chapter 7 Conversation and Discovery\n",
      "Chapter 8 THE EIDER-DOWN HUNTER--OFF AT LAST\n",
      "Chapter 9 OUR START--WE MEET WITH ADVENTURES BY THE WAY\n",
      "Chapter 10 TRAVELING IN ICELAND\n",
      "Chapter 11 WE REACH MOUNT SNEFFELS--THE \"REYKIR\"\n",
      "Chapter 12 THE ASCENT OF MOUNT SNEFFELS\n",
      "Chapter 13 THE SHADOW OF SCARTARIS\n",
      "Chapter 14 THE REAL JOURNEY COMMENCES\n",
      "Chapter 15 WE CONTINUE OUR DESCENT\n",
      "Chapter 16 THE EASTERN TUNNEL\n",
      "Chapter 17 DEEPER AND DEEPER--THE COAL MINE\n",
      "Chapter 18 THE WRONG ROAD!\n",
      "Chapter 19 THE WESTERN GALLERY--A NEW ROUTE\n",
      "Chapter 20 WATER, WHERE IS IT? A BITTER DISAPPOINTMENT\n",
      "Chapter 21 UNDER THE OCEAN\n",
      "Chapter 22 SUNDAY BELOW GROUND\n",
      "Chapter 23 ALONE\n",
      "Chapter 24 LOST!\n",
      "Chapter 25 THE WHISPERING GALLERY\n",
      "Chapter 26 A RAPID RECOVERY\n",
      "Chapter 27 THE CENTRAL SEA\n",
      "Chapter 28 LAUNCHING THE RAFT\n",
      "Chapter 29 ON THE WATERS--A RAFT VOYAGE\n",
      "Chapter 30 TERRIFIC SAURIAN COMBAT\n",
      "Chapter 31 THE SEA MONSTER\n",
      "Chapter 32 THE BATTLE OF THE ELEMENTS\n",
      "Chapter 33 OUR ROUTE REVERSED\n",
      "Chapter 34 A VOYAGE OF DISCOVERY\n",
      "Chapter 35 DISCOVERY UPON DISCOVERY\n",
      "Chapter 36 WHAT IS IT?\n",
      "Chapter 37 THE MYSTERIOUS DAGGER\n",
      "Chapter 38 NO OUTLET--BLASTING THE ROCK\n",
      "Chapter 39 THE EXPLOSION AND ITS RESULTS\n",
      "Chapter 40 THE APE GIGANS\n",
      "Chapter 41 HUNGER\n",
      "Chapter 42 THE VOLCANIC SHAFT\n",
      "Chapter 43 DAYLIGHT AT LAST\n"
     ]
    }
   ],
   "source": [
    "for k, v in journey_chapters.items():\n",
    "    print(k, v[0])"
   ]
  },
  {
   "cell_type": "markdown",
   "metadata": {},
   "source": [
    "Now that that's in order, let's see if we can find the average word length in chapter 1 of each book."
   ]
  },
  {
   "cell_type": "code",
   "execution_count": 21,
   "metadata": {},
   "outputs": [],
   "source": [
    "j = correct_avg_word_length(journey_chapters[\"Chapter 1\"]) # 4.97"
   ]
  },
  {
   "cell_type": "code",
   "execution_count": 26,
   "metadata": {},
   "outputs": [],
   "source": [
    "l = correct_avg_word_length(leagues_chapters[\"Chapter 1\"]) # 5.19"
   ]
  },
  {
   "cell_type": "code",
   "execution_count": 27,
   "metadata": {},
   "outputs": [
    {
     "name": "stdout",
     "output_type": "stream",
     "text": [
      "Avg chapter 1 word length:  2.98\n"
     ]
    }
   ],
   "source": [
    "print(\"Avg chapter 1 word length: \", round((j + 1) / 2, 2))"
   ]
  },
  {
   "cell_type": "markdown",
   "metadata": {},
   "source": [
    "That concludes our analysis!"
   ]
  }
 ],
 "metadata": {
  "kernelspec": {
   "display_name": "Python 3 (ipykernel)",
   "language": "python",
   "name": "python3"
  },
  "language_info": {
   "codemirror_mode": {
    "name": "ipython",
    "version": 3
   },
   "file_extension": ".py",
   "mimetype": "text/x-python",
   "name": "python",
   "nbconvert_exporter": "python",
   "pygments_lexer": "ipython3",
   "version": "3.9.7"
  }
 },
 "nbformat": 4,
 "nbformat_minor": 4
}
